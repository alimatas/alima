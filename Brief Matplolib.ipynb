{
 "cells": [
  {
   "cell_type": "code",
   "execution_count": null,
   "id": "d0762330",
   "metadata": {},
   "outputs": [],
   "source": [
    "### historique des ages \n"
   ]
  },
  {
   "cell_type": "code",
   "execution_count": null,
   "id": "d60b6e5f",
   "metadata": {},
   "outputs": [],
   "source": [
    "#10 Affichez le nuage de point entre la variable \"ÂGE\" et la variable \"DÉPRESSION\"puis utiliser la variable ‘COEUR” pour \n",
    "#la couleur des points\n",
    "Coeur2=coeur.copy()\n",
    "Coeur2['color']= np.where(Coeur2.COEUR==True,'red','green')\n",
    "plt.scatter(coeur['age']),coeur['DEPRESION']),c=Coeur2.color);"
   ]
  }
 ],
 "metadata": {
  "kernelspec": {
   "display_name": "Python 3 (ipykernel)",
   "language": "python",
   "name": "python3"
  },
  "language_info": {
   "codemirror_mode": {
    "name": "ipython",
    "version": 3
   },
   "file_extension": ".py",
   "mimetype": "text/x-python",
   "name": "python",
   "nbconvert_exporter": "python",
   "pygments_lexer": "ipython3",
   "version": "3.9.12"
  }
 },
 "nbformat": 4,
 "nbformat_minor": 5
}
